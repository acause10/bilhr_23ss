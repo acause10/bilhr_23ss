{
 "cells": [
  {
   "cell_type": "markdown",
   "metadata": {},
   "source": [
    "# Homework neural networks"
   ]
  },
  {
   "cell_type": "markdown",
   "metadata": {},
   "source": [
    "## Question 1 part 1"
   ]
  },
  {
   "cell_type": "code",
   "execution_count": 1,
   "metadata": {},
   "outputs": [],
   "source": [
    "import numpy as np\n",
    "import matplotlib.pyplot as plt"
   ]
  },
  {
   "cell_type": "code",
   "execution_count": 2,
   "metadata": {},
   "outputs": [],
   "source": [
    "#Inputs\n",
    "data_folder = '/home/nao/bilhr23ss/workspace/src/tutorial_3/datasets/'\n",
    "\n",
    "dataset = np.loadtxt(data_folder + 'data.txt')\n",
    "trainX = dataset[:,:2]\n",
    "trainY = dataset[:,2:]\n",
    "\n",
    "hidden_units = 128\n",
    "ss = 0.01\n",
    "epochs = 200\n",
    "batch_size = 100\n",
    "lam = 0.0001\n",
    "load = False\n",
    "save = not load"
   ]
  },
  {
   "cell_type": "code",
   "execution_count": 10,
   "metadata": {},
   "outputs": [],
   "source": [
    "dataset = np.loadtxt(data_folder + 'data.txt')\n",
    "X = dataset[:,:2]\n",
    "Y = dataset[:,2:]"
   ]
  },
  {
   "cell_type": "code",
   "execution_count": 3,
   "metadata": {},
   "outputs": [],
   "source": [
    "dataset = np.loadtxt(data_folder + 'data.txt')\n",
    "trainX = dataset[:,:2]\n",
    "trainY = dataset[:,2:]"
   ]
  },
  {
   "cell_type": "code",
   "execution_count": 11,
   "metadata": {},
   "outputs": [
    {
     "data": {
      "text/plain": "'# Randomize training set and pick validation set\\nind = np.random.choice(trainX.shape[0],size=trainX.shape[0],replace=False)\\nvalX = trainX[ind[0:10000],:]\\nvalY = trainY[ind[0:10000]]\\ntrainX = trainX[10000:,:]\\ntrainY = trainY[10000:]'"
     },
     "execution_count": 11,
     "metadata": {},
     "output_type": "execute_result"
    }
   ],
   "source": [
    "# Load data (get files from Piazza)\n",
    "trainX = X[:,:45]\n",
    "trainY = Y[:,:45]\n",
    "testX = X[:,45:]\n",
    "testY = Y[:,45:]\n",
    "# Set seed\n",
    "np.random.seed(0)\n",
    "\n",
    "'''# Randomize training set and pick validation set\n",
    "ind = np.random.choice(trainX.shape[0],size=trainX.shape[0],replace=False)\n",
    "valX = trainX[ind[0:10000],:]\n",
    "valY = trainY[ind[0:10000]]\n",
    "trainX = trainX[10000:,:]\n",
    "trainY = trainY[10000:]'''"
   ]
  },
  {
   "cell_type": "code",
   "execution_count": 12,
   "metadata": {},
   "outputs": [
    {
     "data": {
      "text/plain": "'#Standardize\\nmean = trainX.mean()\\nstd = trainX.std()\\ntrainX = (trainX-mean)/std\\nvalX = (valX-mean)/std\\ntestX = (testX - mean)/std'"
     },
     "execution_count": 12,
     "metadata": {},
     "output_type": "execute_result"
    }
   ],
   "source": [
    "'''#Standardize\n",
    "mean = trainX.mean()\n",
    "std = trainX.std()\n",
    "trainX = (trainX-mean)/std\n",
    "valX = (valX-mean)/std\n",
    "testX = (testX - mean)/std'''"
   ]
  },
  {
   "cell_type": "code",
   "execution_count": 4,
   "metadata": {},
   "outputs": [],
   "source": [
    "#Batchs\n",
    "num_batches = int( np.floor( trainY.size/batch_size ) )\n",
    "BX = [trainX[(i*batch_size):((i+1)*batch_size)] for i in range(num_batches)]\n",
    "BY = [trainY[(i*batch_size):((i+1)*batch_size)] for i in range(num_batches)]"
   ]
  },
  {
   "cell_type": "code",
   "execution_count": 5,
   "metadata": {},
   "outputs": [
    {
     "ename": "ValueError",
     "evalue": "cannot reshape array of size 2 into shape (28,28)",
     "output_type": "error",
     "traceback": [
      "\u001b[0;31m\u001b[0m",
      "\u001b[0;31mValueError\u001b[0mTraceback (most recent call last)",
      "\u001b[0;32m<ipython-input-5-412ef1c75c98>\u001b[0m in \u001b[0;36m<module>\u001b[0;34m()\u001b[0m\n\u001b[1;32m      2\u001b[0m \u001b[0;32mfor\u001b[0m \u001b[0mi\u001b[0m \u001b[0;32min\u001b[0m \u001b[0mrange\u001b[0m\u001b[0;34m(\u001b[0m\u001b[0;36m16\u001b[0m\u001b[0;34m)\u001b[0m\u001b[0;34m:\u001b[0m\u001b[0;34m\u001b[0m\u001b[0m\n\u001b[1;32m      3\u001b[0m     \u001b[0mplt\u001b[0m\u001b[0;34m.\u001b[0m\u001b[0msubplot\u001b[0m\u001b[0;34m(\u001b[0m\u001b[0;36m4\u001b[0m\u001b[0;34m,\u001b[0m\u001b[0;36m4\u001b[0m\u001b[0;34m,\u001b[0m\u001b[0mi\u001b[0m\u001b[0;34m+\u001b[0m\u001b[0;36m1\u001b[0m\u001b[0;34m)\u001b[0m\u001b[0;34m\u001b[0m\u001b[0m\n\u001b[0;32m----> 4\u001b[0;31m     \u001b[0mplt\u001b[0m\u001b[0;34m.\u001b[0m\u001b[0mimshow\u001b[0m\u001b[0;34m(\u001b[0m\u001b[0mnp\u001b[0m\u001b[0;34m.\u001b[0m\u001b[0mreshape\u001b[0m\u001b[0;34m(\u001b[0m\u001b[0mtrainX\u001b[0m\u001b[0;34m[\u001b[0m\u001b[0mi\u001b[0m\u001b[0;34m]\u001b[0m\u001b[0;34m,\u001b[0m\u001b[0;34m[\u001b[0m\u001b[0;36m28\u001b[0m\u001b[0;34m,\u001b[0m\u001b[0;36m28\u001b[0m\u001b[0;34m]\u001b[0m\u001b[0;34m)\u001b[0m\u001b[0;34m,\u001b[0m \u001b[0mcmap\u001b[0m\u001b[0;34m=\u001b[0m\u001b[0;34m'gray'\u001b[0m\u001b[0;34m)\u001b[0m\u001b[0;34m\u001b[0m\u001b[0m\n\u001b[0m\u001b[1;32m      5\u001b[0m     \u001b[0mplt\u001b[0m\u001b[0;34m.\u001b[0m\u001b[0mtitle\u001b[0m\u001b[0;34m(\u001b[0m\u001b[0mstr\u001b[0m\u001b[0;34m(\u001b[0m\u001b[0mint\u001b[0m\u001b[0;34m(\u001b[0m\u001b[0mtrainY\u001b[0m\u001b[0;34m[\u001b[0m\u001b[0mi\u001b[0m\u001b[0;34m,\u001b[0m\u001b[0;36m0\u001b[0m\u001b[0;34m]\u001b[0m\u001b[0;34m)\u001b[0m\u001b[0;34m)\u001b[0m\u001b[0;34m)\u001b[0m\u001b[0;34m\u001b[0m\u001b[0m\n\u001b[1;32m      6\u001b[0m     \u001b[0mplt\u001b[0m\u001b[0;34m.\u001b[0m\u001b[0maxis\u001b[0m\u001b[0;34m(\u001b[0m\u001b[0;34m'off'\u001b[0m\u001b[0;34m)\u001b[0m\u001b[0;34m\u001b[0m\u001b[0m\n",
      "\u001b[0;32m/home/nao/.local/lib/python2.7/site-packages/numpy/core/fromnumeric.pyc\u001b[0m in \u001b[0;36mreshape\u001b[0;34m(a, newshape, order)\u001b[0m\n\u001b[1;32m    290\u001b[0m            [5, 6]])\n\u001b[1;32m    291\u001b[0m     \"\"\"\n\u001b[0;32m--> 292\u001b[0;31m     \u001b[0;32mreturn\u001b[0m \u001b[0m_wrapfunc\u001b[0m\u001b[0;34m(\u001b[0m\u001b[0ma\u001b[0m\u001b[0;34m,\u001b[0m \u001b[0;34m'reshape'\u001b[0m\u001b[0;34m,\u001b[0m \u001b[0mnewshape\u001b[0m\u001b[0;34m,\u001b[0m \u001b[0morder\u001b[0m\u001b[0;34m=\u001b[0m\u001b[0morder\u001b[0m\u001b[0;34m)\u001b[0m\u001b[0;34m\u001b[0m\u001b[0m\n\u001b[0m\u001b[1;32m    293\u001b[0m \u001b[0;34m\u001b[0m\u001b[0m\n\u001b[1;32m    294\u001b[0m \u001b[0;34m\u001b[0m\u001b[0m\n",
      "\u001b[0;32m/home/nao/.local/lib/python2.7/site-packages/numpy/core/fromnumeric.pyc\u001b[0m in \u001b[0;36m_wrapfunc\u001b[0;34m(obj, method, *args, **kwds)\u001b[0m\n\u001b[1;32m     54\u001b[0m \u001b[0;32mdef\u001b[0m \u001b[0m_wrapfunc\u001b[0m\u001b[0;34m(\u001b[0m\u001b[0mobj\u001b[0m\u001b[0;34m,\u001b[0m \u001b[0mmethod\u001b[0m\u001b[0;34m,\u001b[0m \u001b[0;34m*\u001b[0m\u001b[0margs\u001b[0m\u001b[0;34m,\u001b[0m \u001b[0;34m**\u001b[0m\u001b[0mkwds\u001b[0m\u001b[0;34m)\u001b[0m\u001b[0;34m:\u001b[0m\u001b[0;34m\u001b[0m\u001b[0m\n\u001b[1;32m     55\u001b[0m     \u001b[0;32mtry\u001b[0m\u001b[0;34m:\u001b[0m\u001b[0;34m\u001b[0m\u001b[0m\n\u001b[0;32m---> 56\u001b[0;31m         \u001b[0;32mreturn\u001b[0m \u001b[0mgetattr\u001b[0m\u001b[0;34m(\u001b[0m\u001b[0mobj\u001b[0m\u001b[0;34m,\u001b[0m \u001b[0mmethod\u001b[0m\u001b[0;34m)\u001b[0m\u001b[0;34m(\u001b[0m\u001b[0;34m*\u001b[0m\u001b[0margs\u001b[0m\u001b[0;34m,\u001b[0m \u001b[0;34m**\u001b[0m\u001b[0mkwds\u001b[0m\u001b[0;34m)\u001b[0m\u001b[0;34m\u001b[0m\u001b[0m\n\u001b[0m\u001b[1;32m     57\u001b[0m \u001b[0;34m\u001b[0m\u001b[0m\n\u001b[1;32m     58\u001b[0m     \u001b[0;31m# An AttributeError occurs if the object does not have\u001b[0m\u001b[0;34m\u001b[0m\u001b[0;34m\u001b[0m\u001b[0m\n",
      "\u001b[0;31mValueError\u001b[0m: cannot reshape array of size 2 into shape (28,28)"
     ]
    },
    {
     "data": {
      "image/png": "[encoded data removed]",
      "text/plain": "<Figure size 432x288 with 1 Axes>"
     },
     "metadata": {
      "needs_background": "light"
     },
     "output_type": "display_data"
    }
   ],
   "source": [
    "# Visualize\n",
    "for i in range(16):\n",
    "    plt.subplot(4,4,i+1)\n",
    "    plt.imshow(np.reshape(trainX[i],[28,28]), cmap='gray')\n",
    "    plt.title(str(int(trainY[i,0])))\n",
    "    plt.axis('off')\n",
    "    \n",
    "plt.show()"
   ]
  },
  {
   "cell_type": "code",
   "execution_count": 7,
   "metadata": {},
   "outputs": [],
   "source": [
    "#Network class\n",
    "class net(object):\n",
    "    def __init__(self,L=300):\n",
    "        #Constants\n",
    "        self.dim_in = 2\n",
    "        self.dim_out = 2\n",
    "        \n",
    "        #Initialize weights\n",
    "        self.W1 = np.random.randn(L,self.dim_in)\n",
    "        self.W2 = np.random.randn(self.dim_out,L)\n",
    "        self.b1 = np.zeros([L,1])\n",
    "        self.b2 = np.zeros([self.dim_out,1])\n",
    "        \n",
    "        #Initialize random stuff\n",
    "        self.total_loss = []\n",
    "        self.total_accuracy = []\n",
    "        self.loss_val = []\n",
    "        self.acc_val = []\n",
    "        self.loss_train = []\n",
    "        self.acc_train = []\n",
    "        \n",
    "    def sigmoid(self, x):\n",
    "        temp = x*0\n",
    "        ind = x >= 0 \n",
    "        temp[ind] = 1/(1+np.exp(-x[ind]))\n",
    "        ind = x < 0\n",
    "        temp[ind ] = np.exp(x[ind])/(1+np.exp(x[ind]))\n",
    "        return temp\n",
    "    \n",
    "    def softmax(self,x):\n",
    "        x = np.exp(x-np.max(x))\n",
    "        return x/x.sum()\n",
    "    \n",
    "    def softmax_der(self,x):\n",
    "        #This is used for the derivative\n",
    "        B = x.shape[1]\n",
    "        temp = np.zeros([self.dim_out,B]) # x is shape 10 x B\n",
    "        for i in range(B):\n",
    "            temp[:,i] = self.softmax(x[:,i])\n",
    "        \n",
    "        #Make the return matrix\n",
    "        ret = np.zeros([B,self.dim_out,self.dim_out])\n",
    "        I = np.identity(self.dim_out)\n",
    "        for i in range(self.dim_out):\n",
    "            for ii in range(self.dim_out):\n",
    "                ret[:,i,ii] = temp[i,:]*(I[i,ii] - temp[ii,:])\n",
    "        \n",
    "        return ret\n",
    "    \n",
    "    def forward(self,x):\n",
    "        #Reshape\n",
    "        x = x.transpose()\n",
    "        self.x_0 = x + 0 #The initial x\n",
    "\n",
    "        #Hidden layer\n",
    "        x = np.matmul(self.W1,x) + self.b1\n",
    "        self.x_1 = x + 0 #x after the fully connected layer\n",
    "        x = self.sigmoid(x)\n",
    "        self.x_sigmoid = x + 0 #x after the sigmoid\n",
    "        \n",
    "        #Output layers\n",
    "        x = np.matmul(self.W2,x) + self.b2\n",
    "        self.x_2 = x + 0 #x afte second fully connected layer\n",
    "#        for i in range(x.shape[1]):\n",
    "#            x[:,i] = self.softmax(x[:,i])\n",
    "        \n",
    "        return x.squeeze()\n",
    "    \n",
    "    def loss(self, y, y_hat):\n",
    "        #For numeric stability\n",
    "        tol = 1e-64\n",
    "        y_hat[y_hat <= tol] = tol\n",
    "        \n",
    "        self.y_hat = y_hat + 0\n",
    "        self.y_hat_pred = np.argmax(y_hat,0)\n",
    "        self.y = y\n",
    "        self.loss_val = 0\n",
    "        for i in range(y.size):\n",
    "            self.loss_val -= np.log(y_hat[y[i],i])\n",
    "        self.loss_val /= y.size\n",
    "            \n",
    "        return self.loss_val\n",
    "    \n",
    "    def zero_grad(self):\n",
    "        self.W1_grad = self.W1*0\n",
    "        self.b1_grad = self.b1*0\n",
    "        self.W2_grad = self.W2*0\n",
    "        self.b2_grad = self.b2*0\n",
    "        return \n",
    "    \n",
    "    def step(self,step_size):\n",
    "        self.W1 = self.W1 - ss*self.W1_grad\n",
    "        self.b1 = self.b1 - ss*self.b1_grad\n",
    "        self.W2 = self.W2 - ss*self.W2_grad\n",
    "        self.b2 = self.b2 - ss*self.b2_grad\n",
    "        return\n",
    "\n",
    "    def backward(self, lam):\n",
    "        #Batch size\n",
    "        B = self.y.size\n",
    "        \n",
    "        #Calculate the jacobian of the loss\n",
    "        J_L = np.zeros([B,self.dim_out])\n",
    "        for i in range(B):\n",
    "            J_L[i,self.y[i]] = -(1)/(self.y_hat[self.y[i],i])\n",
    "\n",
    "        #Softmax\n",
    "        J_SM = self.softmax_der(self.x_2)\n",
    "\n",
    "        ## b2 grad \n",
    "        grad_temp1 = np.zeros([B,self.dim_out])\n",
    "        for i in range(B):\n",
    "            grad_temp1[i,:] = np.matmul(J_L[i,:],J_SM[i,:])\n",
    "        self.b2_grad = grad_temp1.sum(0).reshape(-1,1)\n",
    "        \n",
    "        #W2 jacobian\n",
    "        T = self.W2.shape[0]\n",
    "        N = self.W2.shape[1]\n",
    "        temp = np.zeros([B,N*T])\n",
    "        for i in range(T):\n",
    "            ind1 = i*(N)\n",
    "            ind2 = ind1 + N\n",
    "            temp[:,ind1:ind2] = grad_temp1[:,i].reshape(B,1) * self.x_sigmoid.transpose()\n",
    "        self.W2_grad = temp.sum(0).reshape(self.W2.shape) + 0\n",
    "                        \n",
    "        #Temporary gradient that will be used later\n",
    "        grad_temp2 = np.matmul(grad_temp1,self.W2)\n",
    "        \n",
    "        #Sigmoid jacobian\n",
    "        temp = self.sigmoid(self.x_1).squeeze()\n",
    "        J_sig = np.zeros([B,self.W1.shape[0],self.W1.shape[0]])\n",
    "        for i in range(self.W1.shape[0]):\n",
    "            J_sig[i,:,:] = np.diag(temp[:,i]*(1-temp[:,i]))\n",
    "            \n",
    "        # b1 grad\n",
    "        grad_temp3 = np.zeros([B,J_sig.shape[2]])\n",
    "        for i in range(B):\n",
    "            grad_temp3[i,:] = np.matmul(grad_temp2[i,:].reshape(1,-1),J_sig[i,:,:])\n",
    "        self.b1_grad = grad_temp3.sum(0).reshape(-1,1)\n",
    "\n",
    "        #W1 jacobian\n",
    "        T = self.W1.shape[0]\n",
    "        N = self.W1.shape[1]\n",
    "        temp = np.zeros([B,N*T])\n",
    "        for i in range(T):\n",
    "            ind1 = i*(N)\n",
    "            ind2 = ind1 + N\n",
    "            temp[:,ind1:ind2] = grad_temp3[:,i].reshape(B,1) * self.x_0.transpose()\n",
    "        self.W1_grad = temp.sum(0).reshape(self.W1.shape) + 0\n",
    "    \n",
    "        #Add regularization\n",
    "        self.W1_grad += lam*self.W1\n",
    "        self.W2_grad += lam*self.W2\n",
    "    \n",
    "        #Clip if gradient exploded\n",
    "        tol = 1000\n",
    "        self.W1_grad[self.W1_grad > tol] = tol\n",
    "        self.W1_grad[self.W1_grad < -tol] = -tol\n",
    "        self.b1_grad[self.b1_grad > tol] = tol\n",
    "        self.b1_grad[self.b1_grad < -tol] = -tol\n",
    "        self.W2_grad[self.W2_grad > tol] = tol\n",
    "        self.W2_grad[self.W2_grad < -tol] = -tol\n",
    "        self.b2_grad[self.b2_grad > tol] = tol\n",
    "        self.b2_grad[self.b2_grad < -tol] = -tol\n",
    "    \n",
    "        return\n",
    "    \n",
    "    def save(self, filename):\n",
    "        np.savez(filename, self.W1, self.b1, self.W2, self.b2, self.total_loss, self.total_accuracy, self.loss_val, self.acc_val, self.loss_train, self.acc_train)\n",
    "        return\n",
    "    \n",
    "    def load(self, filename):\n",
    "        temp = np.load(filename)\n",
    "        self.W1 = temp['arr_0']\n",
    "        self.b1 = temp['arr_1']\n",
    "        self.W2 = temp['arr_2']\n",
    "        self.b2 = temp['arr_3']\n",
    "        \n",
    "        self.total_loss = temp['arr_4']\n",
    "        self.total_accuracy = temp['arr_5']\n",
    "        self.loss_val = temp['arr_6']\n",
    "        self.acc_val = temp['arr_7']\n",
    "        self.loss_train = temp['arr_8']\n",
    "        self.acc_train = temp['arr_9']\n",
    "        return"
   ]
  },
  {
   "cell_type": "code",
   "execution_count": 8,
   "metadata": {},
   "outputs": [],
   "source": [
    "#Make the network\n",
    "model = net(300)"
   ]
  },
  {
   "cell_type": "code",
   "execution_count": 9,
   "metadata": {
    "scrolled": false
   },
   "outputs": [
    {
     "name": "stdout",
     "output_type": "stream",
     "text": [
      "Epoch 1... loss = 1.8657310701847638... acc = 0.71034\n",
      "Epoch 2... loss = 1.3389992319524244... acc = 0.78006\n",
      "Epoch 3... loss = 1.1076962800573718... acc = 0.81026\n",
      "Epoch 4... loss = 0.967782015371616... acc = 0.82882\n",
      "Epoch 5... loss = 0.8684688405344192... acc = 0.8412\n",
      "Epoch 6... loss = 0.7926711663901658... acc = 0.8518\n",
      "Epoch 7... loss = 0.7328736061071679... acc = 0.85976\n",
      "Epoch 8... loss = 0.6840554891675168... acc = 0.86626\n",
      "Epoch 9... loss = 0.6434103389491722... acc = 0.87146\n",
      "Epoch 10... loss = 0.6089371924394151... acc = 0.87556\n",
      "Epoch 11... loss = 0.5791629040897235... acc = 0.87952\n",
      "Epoch 12... loss = 0.5530309843316027... acc = 0.8835\n",
      "Epoch 13... loss = 0.5297744288476697... acc = 0.88672\n",
      "Epoch 14... loss = 0.5088590360786714... acc = 0.88938\n",
      "Epoch 15... loss = 0.4899359979630934... acc = 0.89234\n",
      "Epoch 16... loss = 0.47276589497811117... acc = 0.8948\n",
      "Epoch 17... loss = 0.45715007377982847... acc = 0.89668\n",
      "Epoch 18... loss = 0.4429025139700096... acc = 0.89886\n",
      "Epoch 19... loss = 0.42985180838156534... acc = 0.90012\n",
      "Epoch 20... loss = 0.41784684492006885... acc = 0.90186\n",
      "Epoch 21... loss = 0.40676018085194987... acc = 0.90342\n",
      "Epoch 22... loss = 0.39649545808276865... acc = 0.90482\n",
      "Epoch 23... loss = 0.38697817273735646... acc = 0.90604\n",
      "Epoch 24... loss = 0.3781319270223409... acc = 0.9073\n",
      "Epoch 25... loss = 0.3698785466893707... acc = 0.90864\n",
      "Epoch 26... loss = 0.36215505406719267... acc = 0.9102\n",
      "Epoch 27... loss = 0.3549117575512002... acc = 0.9114\n",
      "Epoch 28... loss = 0.34810487214903457... acc = 0.91268\n",
      "Epoch 29... loss = 0.34169445090701694... acc = 0.91344\n",
      "Epoch 30... loss = 0.3356448801989985... acc = 0.91426\n"
     ]
    }
   ],
   "source": [
    "if load == True:\n",
    "    model.load(models_folder + 'model1.npz')\n",
    "else:\n",
    "    #Initialize stats arrays\n",
    "    loss = np.zeros([epochs,len(BX)])\n",
    "    acc = np.zeros([epochs,len(BX)])\n",
    "    loss_val = np.zeros([epochs,1])\n",
    "    acc_val = np.zeros([epochs,1])\n",
    "    loss_train = np.zeros([epochs,1])\n",
    "    acc_train = np.zeros([epochs,1])\n",
    "    \n",
    "    #Loop through data\n",
    "    for epoch in range(epochs):\n",
    "        for batch in range(len(BX)):\n",
    "            #Make back\n",
    "            X = BX[batch]\n",
    "            Y = BY[batch]\n",
    "            \n",
    "            #Zero out the gradient\n",
    "            model.zero_grad()\n",
    "            \n",
    "            #Forward\n",
    "            out = model.forward(X)\n",
    "\n",
    "            #calculate loss and accuracy\n",
    "            loss[epoch,batch] = model.loss(Y.astype(int)[:,0],out)\n",
    "            acc[epoch,batch] = np.mean(model.y_hat_pred == model.y)\n",
    "\n",
    "            #Backward\n",
    "            model.backward(0)\n",
    "\n",
    "            #Update weights\n",
    "            model.step(ss)\n",
    "            \n",
    "        #Calcualte the validation loss and stuff\n",
    "        model.zero_grad()\n",
    "        out = model.forward(valX)\n",
    "        loss_val[epoch] = model.loss(valY.astype(int)[:,0],out)\n",
    "        acc_val[epoch] = np.mean(model.y_hat_pred == model.y)\n",
    "\n",
    "        #Calcualte over the whole training set\n",
    "        model.zero_grad()\n",
    "        out = model.forward(trainX)\n",
    "        loss_train[epoch] = model.loss(trainY.astype(int)[:,0],out)\n",
    "        acc_train[epoch] = np.mean(model.y_hat_pred == model.y)\n",
    "        print('Epoch ' + str(epoch+1) + '... loss = ' + str(loss_train[epoch,0]) + '... acc = ' + str(acc_train[epoch,0]))\n",
    "        \n",
    "    #Save stats\n",
    "    model.total_loss = loss + 0\n",
    "    model.total_accuracy = acc + 0\n",
    "    model.loss_val = loss_val + 0\n",
    "    model.acc_val = acc_val + 0\n",
    "    model.loss_train = loss_train + 0\n",
    "    model.acc_train = acc_train + 0\n",
    "    \n",
    "    #Save network\n",
    "    if save == True:\n",
    "        model.save(models_folder + 'model1.npz')"
   ]
  },
  {
   "cell_type": "markdown",
   "metadata": {},
   "source": [
    "### Plots for part 1"
   ]
  },
  {
   "cell_type": "code",
   "execution_count": 10,
   "metadata": {},
   "outputs": [
    {
     "data": {
      "image/png": "[encoded data removed]",
      "text/plain": [
       "<Figure size 432x288 with 1 Axes>"
      ]
     },
     "metadata": {
      "needs_background": "light"
     },
     "output_type": "display_data"
    }
   ],
   "source": [
    "plt.plot(loss_val)\n",
    "plt.plot(loss_train)\n",
    "plt.legend(['validation','training'])\n",
    "plt.title('Unregularized loss')\n",
    "plt.xlabel('epoch')\n",
    "plt.ylabel('loss')\n",
    "plt.show()"
   ]
  },
  {
   "cell_type": "code",
   "execution_count": 11,
   "metadata": {},
   "outputs": [
    {
     "data": {
      "image/png": "[encoded data removed]",
      "text/plain": [
       "<Figure size 432x288 with 1 Axes>"
      ]
     },
     "metadata": {
      "needs_background": "light"
     },
     "output_type": "display_data"
    }
   ],
   "source": [
    "plt.plot(acc_val)\n",
    "plt.plot(acc_train)\n",
    "plt.legend(['validation','training'])\n",
    "plt.title('Unregularized accuracy')\n",
    "plt.xlabel('epoch')\n",
    "plt.ylabel('accuracy')\n",
    "plt.show()"
   ]
  },
  {
   "cell_type": "markdown",
   "metadata": {},
   "source": [
    "## Part 2"
   ]
  },
  {
   "cell_type": "code",
   "execution_count": 12,
   "metadata": {},
   "outputs": [],
   "source": [
    "#Make the network\n",
    "model = net(300)"
   ]
  },
  {
   "cell_type": "code",
   "execution_count": 13,
   "metadata": {
    "scrolled": false
   },
   "outputs": [
    {
     "name": "stdout",
     "output_type": "stream",
     "text": [
      "Epoch 1... loss = 1.8016349079832592... acc = 0.71774\n",
      "Epoch 2... loss = 1.2926553987361167... acc = 0.78452\n",
      "Epoch 3... loss = 1.0679840003266576... acc = 0.8144\n",
      "Epoch 4... loss = 0.9304803399073631... acc = 0.83314\n",
      "Epoch 5... loss = 0.8329247552712004... acc = 0.84592\n",
      "Epoch 6... loss = 0.7585276403764625... acc = 0.8548\n",
      "Epoch 7... loss = 0.6999157000573796... acc = 0.86304\n",
      "Epoch 8... loss = 0.6525412314772421... acc = 0.86898\n",
      "Epoch 9... loss = 0.6133033651266904... acc = 0.87424\n",
      "Epoch 10... loss = 0.5800892917101558... acc = 0.87862\n",
      "Epoch 11... loss = 0.5515006729985068... acc = 0.88284\n",
      "Epoch 12... loss = 0.5265291175573369... acc = 0.8869\n",
      "Epoch 13... loss = 0.5044480173236059... acc = 0.89046\n",
      "Epoch 14... loss = 0.4847461119496797... acc = 0.8933\n",
      "Epoch 15... loss = 0.4670549581254301... acc = 0.89648\n",
      "Epoch 16... loss = 0.45108194049735095... acc = 0.89792\n",
      "Epoch 17... loss = 0.4365869605654921... acc = 0.90022\n",
      "Epoch 18... loss = 0.4233674026342119... acc = 0.90256\n",
      "Epoch 19... loss = 0.41124974308510137... acc = 0.90492\n",
      "Epoch 20... loss = 0.4000886076182424... acc = 0.90624\n",
      "Epoch 21... loss = 0.38976397593871237... acc = 0.90788\n",
      "Epoch 22... loss = 0.38017724719307844... acc = 0.90944\n",
      "Epoch 23... loss = 0.37124730871225176... acc = 0.9107\n",
      "Epoch 24... loss = 0.3629054842281211... acc = 0.91198\n",
      "Epoch 25... loss = 0.3550942299168056... acc = 0.91342\n",
      "Epoch 26... loss = 0.3477740295472628... acc = 0.91478\n",
      "Epoch 27... loss = 0.34091321550653725... acc = 0.91608\n",
      "Epoch 28... loss = 0.3344720404303488... acc = 0.91708\n",
      "Epoch 29... loss = 0.3284138104382969... acc = 0.9182\n",
      "Epoch 30... loss = 0.32270783830776584... acc = 0.91934\n"
     ]
    }
   ],
   "source": [
    "if load == True:\n",
    "    model.load(models_folder + 'model2.npz')\n",
    "\n",
    "else:\n",
    "    #Initialize stats arrays\n",
    "    loss = np.zeros([epochs,len(BX)])\n",
    "    acc = np.zeros([epochs,len(BX)])\n",
    "    loss_val = np.zeros([epochs,1])\n",
    "    acc_val = np.zeros([epochs,1])\n",
    "    loss_train = np.zeros([epochs,1])\n",
    "    acc_train = np.zeros([epochs,1])\n",
    "    \n",
    "    #Loop through data\n",
    "    for epoch in range(epochs):\n",
    "        for batch in range(len(BX)):\n",
    "            #Make back\n",
    "            X = BX[batch]\n",
    "            Y = BY[batch]\n",
    "            \n",
    "            #Zero out the gradient\n",
    "            model.zero_grad()\n",
    "            \n",
    "            #Forward\n",
    "            out = model.forward(X)\n",
    "\n",
    "            #calculate loss and accuracy\n",
    "            loss[epoch,batch] = model.loss(Y.astype(int)[:,0],out)\n",
    "            acc[epoch,batch] = np.mean(model.y_hat_pred == model.y)\n",
    "\n",
    "            #Backward\n",
    "            model.backward(lam)\n",
    "\n",
    "            #Update weights\n",
    "            model.step(ss)\n",
    "            \n",
    "        #Calcualte the validation loss and stuff\n",
    "        model.zero_grad()\n",
    "        out = model.forward(valX)\n",
    "        loss_val[epoch] = model.loss(valY.astype(int)[:,0],out)\n",
    "        acc_val[epoch] = np.mean(model.y_hat_pred == model.y)\n",
    "\n",
    "        #Calcualte over the whole training set\n",
    "        model.zero_grad()\n",
    "        out = model.forward(trainX)\n",
    "        loss_train[epoch] = model.loss(trainY.astype(int)[:,0],out)\n",
    "        acc_train[epoch] = np.mean(model.y_hat_pred == model.y)\n",
    "        print('Epoch ' + str(epoch+1) + '... loss = ' + str(loss_train[epoch,0]) + '... acc = ' + str(acc_train[epoch,0]))\n",
    "\n",
    "    #Save stats\n",
    "    model.total_loss = loss + 0\n",
    "    model.total_accuracy = acc + 0\n",
    "    model.loss_val = loss_val + 0\n",
    "    model.acc_val = acc_val + 0\n",
    "    model.loss_train = loss_train + 0\n",
    "    model.acc_train = acc_train + 0\n",
    "    \n",
    "    #Save network\n",
    "    if save == True:\n",
    "        model.save(models_folder + 'model2.npz')"
   ]
  },
  {
   "cell_type": "code",
   "execution_count": 14,
   "metadata": {},
   "outputs": [
    {
     "data": {
      "image/png": "[encoded data removed]",
      "text/plain": [
       "<Figure size 432x288 with 1 Axes>"
      ]
     },
     "metadata": {
      "needs_background": "light"
     },
     "output_type": "display_data"
    }
   ],
   "source": [
    "plt.plot(loss_val)\n",
    "plt.plot(loss_train)\n",
    "plt.legend(['validation','training'])\n",
    "plt.title('Regularized loss')\n",
    "plt.xlabel('epoch')\n",
    "plt.ylabel('loss')\n",
    "plt.show()"
   ]
  },
  {
   "cell_type": "code",
   "execution_count": 15,
   "metadata": {},
   "outputs": [
    {
     "data": {
      "image/png": "[encoded data removed]",
      "text/plain": [
       "<Figure size 432x288 with 1 Axes>"
      ]
     },
     "metadata": {
      "needs_background": "light"
     },
     "output_type": "display_data"
    }
   ],
   "source": [
    "plt.plot(acc_val)\n",
    "plt.plot(acc_train)\n",
    "plt.legend(['validation','training'])\n",
    "plt.title('Regularized accuracy')\n",
    "plt.xlabel('epoch')\n",
    "plt.ylabel('accuracy')\n",
    "plt.show()"
   ]
  },
  {
   "cell_type": "markdown",
   "metadata": {},
   "source": [
    "## Part 3"
   ]
  },
  {
   "cell_type": "code",
   "execution_count": 16,
   "metadata": {},
   "outputs": [],
   "source": [
    "#Regularized model\n",
    "out = model.forward(testX)\n",
    "loss_reg = model.loss(testY.astype(int)[:,0],out)\n",
    "acc_reg = np.mean(model.y_hat_pred == model.y)"
   ]
  },
  {
   "cell_type": "code",
   "execution_count": 17,
   "metadata": {},
   "outputs": [],
   "source": [
    "#Unregularized model\n",
    "model.load(models_folder + 'model1.npz')\n",
    "out = model.forward(testX)\n",
    "loss_unreg = model.loss(testY.astype(int)[:,0],out)\n",
    "acc_unreg = np.mean(model.y_hat_pred == model.y)"
   ]
  },
  {
   "cell_type": "code",
   "execution_count": 18,
   "metadata": {},
   "outputs": [
    {
     "name": "stdout",
     "output_type": "stream",
     "text": [
      "The accuracy of the unregularized model is 88.7%\n",
      "The accuracy of the regularized model is 89.1%\n"
     ]
    }
   ],
   "source": [
    "#Show results\n",
    "print('The accuracy of the unregularized model is ' + str(round(100*acc_unreg,1)) + '%')\n",
    "print('The accuracy of the regularized model is ' + str(round(100*acc_reg,1)) + '%')"
   ]
  },
  {
   "cell_type": "code",
   "execution_count": null,
   "metadata": {},
   "outputs": [],
   "source": []
  },
  {
   "cell_type": "code",
   "execution_count": null,
   "metadata": {},
   "outputs": [],
   "source": []
  },
  {
   "cell_type": "code",
   "execution_count": null,
   "metadata": {},
   "outputs": [],
   "source": []
  },
  {
   "cell_type": "code",
   "execution_count": null,
   "metadata": {},
   "outputs": [],
   "source": []
  },
  {
   "cell_type": "code",
   "execution_count": null,
   "metadata": {},
   "outputs": [],
   "source": []
  },
  {
   "cell_type": "code",
   "execution_count": null,
   "metadata": {},
   "outputs": [],
   "source": []
  },
  {
   "cell_type": "code",
   "execution_count": null,
   "metadata": {},
   "outputs": [],
   "source": []
  },
  {
   "cell_type": "code",
   "execution_count": null,
   "metadata": {},
   "outputs": [],
   "source": []
  },
  {
   "cell_type": "code",
   "execution_count": null,
   "metadata": {},
   "outputs": [],
   "source": []
  },
  {
   "cell_type": "code",
   "execution_count": null,
   "metadata": {},
   "outputs": [],
   "source": []
  },
  {
   "cell_type": "code",
   "execution_count": null,
   "metadata": {},
   "outputs": [],
   "source": []
  },
  {
   "cell_type": "code",
   "execution_count": null,
   "metadata": {},
   "outputs": [],
   "source": []
  }
 ],
 "metadata": {
  "celltoolbar": "Raw Cell Format",
  "kernelspec": {
   "display_name": "Python 2.7.12 64-bit",
   "name": "python2712jvsc74a57bd0767d51c1340bd893661ea55ea3124f6de3c7a262a8b4abca0554b478b1e2ff90"
  },
  "language_info": {
   "codemirror_mode": {
    "name": "ipython",
    "version": 2
   },
   "file_extension": ".py",
   "mimetype": "text/x-python",
   "name": "python",
   "nbconvert_exporter": "python",
   "pygments_lexer": "ipython2",
   "version": "2.7.12"
  },
  "metadata": {
   "interpreter": {
    "hash": "767d51c1340bd893661ea55ea3124f6de3c7a262a8b4abca0554b478b1e2ff90"
   }
  }
 },
 "nbformat": 4,
 "nbformat_minor": 2
}