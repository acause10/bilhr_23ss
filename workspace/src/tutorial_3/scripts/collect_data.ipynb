{
 "cells": [
  {
   "cell_type": "markdown",
   "metadata": {},
   "source": [
    "# Collect Data"
   ]
  },
  {
   "cell_type": "code",
   "execution_count": 1,
   "metadata": {},
   "outputs": [],
   "source": [
    "import numpy as np\n",
    "import matplotlib.pyplot as plt\n"
   ]
  },
  {
   "cell_type": "code",
   "execution_count": 17,
   "metadata": {},
   "outputs": [],
   "source": [
    "training_data = []\n",
    "training_data.append([str(5.2),str(-6.3),str(7.4),str(8.5)])\n",
    "training_data.append([str(5.2),str(-6.3),str(7.4),str(8.5)])\n",
    "training_data.append([str(5.2),str(-6.3),str(7.4),str(8.5)])\n",
    "with open('data.txt', 'w') as f:\n",
    "    for data in training_data:\n",
    "        f.write(str(data[0])+' ')\n",
    "        f.write(str(data[1])+' ') \n",
    "        f.write(str(data[2])+' ') \n",
    "        f.write(str(data[3])+' ')\n",
    "        f.write('\\n') \n",
    "    f.close()"
   ]
  },
  {
   "cell_type": "code",
   "execution_count": 20,
   "metadata": {},
   "outputs": [
    {
     "name": "stdout",
     "output_type": "stream",
     "text": [
      "[5.2, -6.3, 7.4, 8.5]\n",
      "[5.2, -6.3, 7.4, 8.5]\n",
      "[5.2, -6.3, 7.4, 8.5]\n"
     ]
    }
   ],
   "source": [
    "with open('data.txt', 'r') as f:\n",
    "    for line in f.readlines():\n",
    "        line = line.strip('\\n')\n",
    "        line = line.split()\n",
    "        print([float(x) for x in line])\n"
   ]
  }
 ],
 "metadata": {
  "kernelspec": {
   "display_name": "Python 2.7.12 64-bit",
   "name": "python2712jvsc74a57bd0767d51c1340bd893661ea55ea3124f6de3c7a262a8b4abca0554b478b1e2ff90"
  },
  "language_info": {
   "codemirror_mode": {
    "name": "ipython",
    "version": 2
   },
   "file_extension": ".py",
   "mimetype": "text/x-python",
   "name": "python",
   "nbconvert_exporter": "python",
   "pygments_lexer": "ipython2",
   "version": "2.7.12"
  },
  "metadata": {
   "interpreter": {
    "hash": "767d51c1340bd893661ea55ea3124f6de3c7a262a8b4abca0554b478b1e2ff90"
   }
  },
  "orig_nbformat": 2
 },
 "nbformat": 4,
 "nbformat_minor": 2
}